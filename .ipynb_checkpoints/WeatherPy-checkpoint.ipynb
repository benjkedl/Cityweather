{
 "cells": [
  {
   "cell_type": "code",
   "execution_count": 1,
   "metadata": {
    "scrolled": true
   },
   "outputs": [],
   "source": [
    "# Dependencies and Setup\n",
    "import matplotlib.pyplot as plt\n",
    "import pandas as pd\n",
    "import numpy as np\n",
    "import requests\n",
    "import time\n",
    "\n",
    "# Import API key\n",
    "import api_keys\n",
    "\n",
    "# Incorporated citipy to determine city based on latitude and longitude\n",
    "from citipy import citipy\n",
    "\n",
    "# Output File (CSV)\n",
    "output_data_file = \"output_data/cities.csv\"\n",
    "\n",
    "# Range of latitudes and longitudes\n",
    "lat_range = (-90, 90)\n",
    "lng_range = (-180, 180)"
   ]
  },
  {
   "cell_type": "markdown",
   "metadata": {},
   "source": [
    "## Generate Cities List"
   ]
  },
  {
   "cell_type": "code",
   "execution_count": 2,
   "metadata": {},
   "outputs": [
    {
     "name": "stdout",
     "output_type": "stream",
     "text": [
      "['hilo', 'hithadhoo', 'grand river south east', 'santa fe', 'hovd', 'vaitupu', 'provideniya', 'upata', 'maningrida', 'belyy yar', 'lashio', 'punta arenas', 'kavaratti', 'rawah', 'norman wells', 'fort saint james', 'ladson', 'hermanus', 'ushuaia', 'mount isa', 'albany', 'kamenka', 'jamestown', 'east london', 'atuona', 'shache', 'ilulissat', 'padang', 'qaqortoq', 'busselton', 'sanmenxia', 'juneau', 'lebu', 'mar del plata', 'kaithal', 'coihaique', 'souillac', 'esperance', 'narsaq', 'bluff', 'sorong', 'mataura', 'bredasdorp', 'yellowknife', 'bathsheba', 'la ronge', 'klaksvik', 'leh', 'mecca', 'faanui', 'hobart', 'palabuhanratu', 'wahiawa', 'takaka', 'tasiilaq', 'raudeberg', 'amderma', 'vaini', 'hasaki', 'constitucion', 'somers point', 'orlik', 'kathu', 'belushya guba', 'rudnichnyy', 'cherskiy', 'port-gentil', 'new norfolk', 'perth', 'hernani', 'karasjok', 'lavrentiya', 'rock sound', 'barrow', 'havoysund', 'husavik', 'rosarito', 'altay', 'duz', 'tarata', 'qaanaaq', 'rikitea', 'lompoc', 'saskylakh', 'asau', 'cape town', 'puerto ayora', 'half moon bay', 'plettenberg bay', 'illoqqortoormiut', 'kaitangata', 'taolanaro', 'chuncheng', 'champasak', 'ewa beach', 'omsukchan', 'arraial do cabo', 'nome', 'stoyba', 'campos belos', 'barentsburg', 'valdemarpils', 'colares', 'halifax', 'sentyabrskiy', 'maridi', 'farah', 'chokurdakh', 'caohai', 'rorvik', 'portland', 'labuhan', 'wilmington', 'cabo san lucas', 'komsomolskiy', 'gazli', 'vila velha', 'aljezur', 'aklavik', 'flinders', 'wuwei', 'mogadishu', 'louisbourg', 'san cristobal', 'tanggu', 'kaeo', 'seredka', 'manono', 'fortuna', 'kapaa', 'hit', 'uaua', 'marsh harbour', 'port hardy', 'ust-kamchatsk', 'nemuro', 'ati', 'bandarbeyla', 'pisco', 'toliary', 'naliya', 'falealupo', 'castro', 'clyde', 'biak', 'georgetown', 'touho', 'nikolskoye', 'verkhniye sergi', 'atambua', 'port alfred', 'dikson', 'saint-philippe', 'beringovskiy', 'menongue', 'ngukurr', 'gushikawa', 'sergeyevka', 'butaritari', 'ixtapa', 'coahuayana', 'pinega', 'hami', 'warrnambool', 'kathmandu', 'berlevag', 'diapaga', 'pevek', 'fort nelson', 'rognan', 'ballina', 'bullhead city', 'praia da vitoria', 'tianpeng', 'tsihombe', 'kavieng', 'khatanga', 'attawapiskat', 'nouadhibou', 'rawson', 'namatanai', 'srednekolymsk', 'north bend', 'tiarei', 'necochea', 'iqaluit', 'mys shmidta', 'dicabisagan', 'dingle', 'port blair', 'pacific grove', 'bay roberts', 'copiapo', 'touros', 'tomatlan', 'ancud', 'longyearbyen', 'basco', 'walsrode', 'thompson', 'port-cartier', 'caravelas', 'richmond', 'gat', 'mount gambier', 'teahupoo', 'voloshka', 'quesnel', 'tual', 'carnarvon', 'requena', 'mullaitivu', 'atar', 'vila franca do campo', 'tumannyy', 'challakere', 'torbay', 'busia', 'kachiry', 'marcona', 'katsuura', 'hualmay', 'sao filipe', 'sangar', 'meyungs', 'jiddah', 'olafsvik', 'akureyri', 'ko samui', 'oksfjord', 'williams lake', 'fairbanks', 'ponta do sol', 'nanortalik', 'avarua', 'ambanja', 'thinadhoo', 'union', 'batagay-alyta', 'shimanovsk', 'naze', 'san patricio', 'sitka', 'ordynskoye', 'mahebourg', 'lata', 'soloneshnoye', 'nago', 'ribeira grande', 'carutapera', 'bengkulu', 'gulshat', 'haines junction', 'marawi', 'one hundred mile house', 'shingu', 'severo-kurilsk', 'russell', 'langham', 'neuquen', 'victoria', 'ulaangom', 'upernavik', 'kjollefjord', 'airai', 'solsvik', 'isangel', 'gigmoto', 'vardo', 'tiksi', 'mao', 'arlit', 'rio gallegos', 'lagoa', 'khash', 'grand-santi', 'bilma', 'cesme', 'doha', 'boditi', 'avera', 'talnakh', 'tabiauea', 'jiexiu', 'gao', 'estevan', 'tabou', 'kodiak', 'kruisfontein', 'agadez', 'tuktoyaktuk', 'alyangula', 'victor harbor', 'saleaula', 'gabaldon', 'bonavista', 'zlatoustovsk', 'kuching', 'vao', 'imbituba', 'quang ngai', 'tubuala', 'mangai', 'santiago', 'prince george', 'el obraje', 'weyburn', 'port elizabeth', 'savinka', 'jega', 'barbar', 'bairiki', 'samusu', 'saldanha', 'namibe', 'bambous virieux', 'pemangkat', 'saraland', 'saint-pierre', 'loandjili', 'dong hoi', 'stuttgart', 'carbonear', 'maceio', 'barbacoas', 'soria', 'westport', 'barentu', 'asilah', 'kloulklubed', 'yulara', 'auki', 'faya', 'sheltozero', 'taksimo', 'sawtell', 'paka', 'vilhena', 'nara', 'beira', 'eureka', 'tsiroanomandidy', 'formoso do araguaia', 'nikki', 'otradnoye', 'urbano santos', 'chimore', 'cayenne', 'vestmannaeyjar', 'pata', 'general roca', 'taoudenni', 'kahului', 'mackenzie', 'tilichiki', 'santa maria', 'road town', 'mangrol', 'usinsk', 'tsaratanana', 'sinnamary', 'joshimath', 'sola', 'lixourion', 'ostrovnoy', 'nizhneyansk', 'mezen', 'alugan', 'seabra', 'marshalltown', 'ushirombo', 'hoshcha', 'lakhdenpokhya', 'enshi', 'matsubase', 'virginia beach', 'moron', 'lazaro cardenas', 'korla', 'elbasan', 'galle', 'arman', 'luis correia', 'filingue', 'salalah', 'parkes', 'weatherford', 'huarmey', 'nisia floresta', 'bur gabo', 'urdoma', 'sibu', 'kuche', 'ahuimanu', 'trofors', 'mozarlandia', 'haukipudas', 'borovskoy', 'hofn', 'shimoda', 'harper', 'sabha', 'ribeira brava', 'port lincoln', 'aksarka', 'hargeysa', 'fukue', 'troitskoye', 'bage', 'ust-nera', 'saint george', 'svetlogorsk', 'christchurch', 'margate', 'cache creek', 'slave lake', 'cape canaveral', 'quelimane', 'geraldton', 'ambovombe', 'abu kamal', 'edd', 'lorengau', 'salinopolis', 'turukhansk', 'campbellsville', 'jutai', 'kindu', 'denpasar', 'guerrero negro', 'sinjar', 'anantnag', 'beaufort', 'todi', 'beterou', 'clyde river', 'mount hagen', 'luderitz', 'talara', 'broken hill', 'pangody', 'keighley', 'neropolis', 'tazmalt', 'maryville', 'pustoshka', 'zeya', 'khonuu', 'buriti alegre', 'hamilton', 'zvishavane', 'mayo', 'toora-khem', 'dourbali', 'anadyr', 'fiditi', 'vero beach', 'zaysan', 'mahibadhoo', 'kazalinsk', 'andijon', 'srandakan', 'kuhdasht', 'soyo', 'san quintin', 'codrington', 'kutum', 'shkotovo-26', 'torre-pacheco', 'minab', 'omurtag', 'san isidro', 'wanning', 'henties bay', 'santa isabel', 'karratha', 'tambopata', 'tekeli', 'bumba', 'tuatapere', 'novosheshminsk', 'karpathos', 'charters towers', 'egvekinot', 'kikwit', 'kolchugino', 'bardiyah', 'taltal', 'camargo', 'chabahar', 'waddan', 'mitu', 'san carlos de bariloche', 'mandalgovi', 'foz', 'ahipara', 'tall kayf', 'biala podlaska', 'kracheh', 'ahumada', 'bara', 'prijepolje', 'chandbali', 'sao francisco de assis', 'banmo', 'kunming', 'bulgan', 'flagstaff', 'cayeli', 'manadhoo', 'atescatempa', 'grindavik', 'sur', 'tessalit', 'makakilo city', 'toyooka', 'sao joao da barra', 'datong', 'utiroa', 'el alto', 'bonito', 'centralia', 'macherla', 'malpe', 'carmen', 'paita', 'gimli', 'hearst', 'vila do maio', 'yar-sale', 'dunedin', 'blairmore', 'saint anthony', 'miri', 'opuwo', 'cheney', 'salisbury', 'keti bandar', 'baruun-urt', 'north mankato', 'wellington', 'samarai', 'harlingen', 'chagda', 'concordia', 'pochutla', 'manggar', 'meulaboh', 'macomer', 'pafos', 'ruwi', 'ranau', 'riyadh', 'basoko', 'pathalgaon', 'abu samrah', 'fort morgan', 'mlonggo', 'chuy', 'malakal', 'kirakira', 'kidal', 'assiniboia', 'brae', 'tahe', 'lianran', 'lodja', 'laguna de perlas', 'miles city', 'belem de sao francisco', 'hanmer springs', 'canavieiras', 'minot', 'bethel', 'mikhaylovka', 'florianopolis', 'acapulco', 'evensk', 'cidreira', 'dalvik', 'deogarh', 'andros town', 'pechora', 'chihuahua', 'mabaruma', 'saraipali', 'ambilobe', 'madimba', 'flin flon', 'capitao poco', 'lagos', 'barra do garcas', 'matay', 'oktyabrskoye', 'sarangani', 'bagdarin', 'corpus christi', 'morro bay', 'tiznit', 'saint-augustin', 'honningsvag', 'iskateley', 'paradwip', 'pozo colorado', 'shieli', 'laguna beach', 'baykit', 'jasper', 'winneba', 'yurty', 'akdepe', 'nizhniy tagil-39', 'bismarck', 'ayan', 'mallapuram', 'mesetas', 'kamiiso', 'ust-maya', 'launceston', 'sieghartskirchen', 'emerald', 'nazarovo']\n"
     ]
    }
   ],
   "source": [
    "# List for holding lat_lngs and cities\n",
    "lat_lngs = []\n",
    "cities = []\n",
    "\n",
    "# Create a set of random lat and lng combinations\n",
    "lats = np.random.uniform(low=-90.000, high=90.000, size=1500)\n",
    "lngs = np.random.uniform(low=-180.000, high=180.000, size=1500)\n",
    "lat_lngs = zip(lats, lngs)\n",
    "\n",
    "# Identify nearest city for each lat, lng combination\n",
    "for lat_lng in lat_lngs:\n",
    "    city = citipy.nearest_city(lat_lng[0], lat_lng[1]).city_name\n",
    "    \n",
    "    # If the city is unique, then add it to a our cities list\n",
    "    if city not in cities:\n",
    "        cities.append(city)\n",
    "\n",
    "# Print the city count to confirm sufficient count\n",
    "print(cities)"
   ]
  },
  {
   "cell_type": "markdown",
   "metadata": {},
   "source": [
    "## Perform API Calls"
   ]
  },
  {
   "cell_type": "code",
   "execution_count": 11,
   "metadata": {},
   "outputs": [
    {
     "ename": "KeyError",
     "evalue": "'main'",
     "output_type": "error",
     "traceback": [
      "\u001b[1;31m---------------------------------------------------------------------------\u001b[0m",
      "\u001b[1;31mKeyError\u001b[0m                                  Traceback (most recent call last)",
      "\u001b[1;32m<ipython-input-11-87308d1a6b8f>\u001b[0m in \u001b[0;36m<module>\u001b[1;34m()\u001b[0m\n\u001b[0;32m     11\u001b[0m     \u001b[0murl\u001b[0m \u001b[1;33m=\u001b[0m \u001b[1;34m\"https://api.openweathermap.org/data/2.5/weather?q=\"\u001b[0m \u001b[1;33m+\u001b[0m \u001b[0mcity\u001b[0m \u001b[1;33m+\u001b[0m\u001b[1;34m\"&units=\"\u001b[0m\u001b[1;33m+\u001b[0m \u001b[0munit\u001b[0m\u001b[1;33m+\u001b[0m\u001b[1;34m\"&APPID=\"\u001b[0m \u001b[1;33m+\u001b[0m \u001b[0mapi_key\u001b[0m\u001b[1;33m\u001b[0m\u001b[0m\n\u001b[0;32m     12\u001b[0m     \u001b[0mresponse\u001b[0m \u001b[1;33m=\u001b[0m \u001b[0mrequests\u001b[0m\u001b[1;33m.\u001b[0m\u001b[0mget\u001b[0m\u001b[1;33m(\u001b[0m\u001b[0murl\u001b[0m\u001b[1;33m)\u001b[0m\u001b[1;33m.\u001b[0m\u001b[0mjson\u001b[0m\u001b[1;33m(\u001b[0m\u001b[1;33m)\u001b[0m\u001b[1;33m\u001b[0m\u001b[0m\n\u001b[1;32m---> 13\u001b[1;33m     \u001b[0mtemps\u001b[0m\u001b[1;33m.\u001b[0m\u001b[0mappend\u001b[0m\u001b[1;33m(\u001b[0m\u001b[0mresponse\u001b[0m\u001b[1;33m[\u001b[0m\u001b[1;34m'main'\u001b[0m\u001b[1;33m]\u001b[0m\u001b[1;33m[\u001b[0m\u001b[1;34m'temp'\u001b[0m\u001b[1;33m]\u001b[0m\u001b[1;33m)\u001b[0m\u001b[1;33m\u001b[0m\u001b[0m\n\u001b[0m\u001b[0;32m     14\u001b[0m     \u001b[0mhumid\u001b[0m\u001b[1;33m.\u001b[0m\u001b[0mappend\u001b[0m\u001b[1;33m(\u001b[0m\u001b[0mresponse\u001b[0m\u001b[1;33m[\u001b[0m\u001b[1;34m'main'\u001b[0m\u001b[1;33m]\u001b[0m\u001b[1;33m[\u001b[0m\u001b[1;34m'humidity'\u001b[0m\u001b[1;33m]\u001b[0m\u001b[1;33m)\u001b[0m\u001b[1;33m\u001b[0m\u001b[0m\n\u001b[0;32m     15\u001b[0m     \u001b[0mcloud\u001b[0m\u001b[1;33m.\u001b[0m\u001b[0mappend\u001b[0m\u001b[1;33m(\u001b[0m\u001b[0mresponse\u001b[0m\u001b[1;33m[\u001b[0m\u001b[1;34m'clouds'\u001b[0m\u001b[1;33m]\u001b[0m\u001b[1;33m[\u001b[0m\u001b[1;34m'all'\u001b[0m\u001b[1;33m]\u001b[0m\u001b[1;33m)\u001b[0m\u001b[1;33m\u001b[0m\u001b[0m\n",
      "\u001b[1;31mKeyError\u001b[0m: 'main'"
     ]
    }
   ],
   "source": [
    "# OpenWeatherMap API Key\n",
    "api_key = api_keys.api_key\n",
    "\n",
    "unit=\"imperial\"\n",
    "# Starting URL for Weather Map API Call\n",
    "temps = []\n",
    "humid = []\n",
    "cloud = []\n",
    "wind = []\n",
    "for city in cities:\n",
    "    url = \"https://api.openweathermap.org/data/2.5/weather?q=\" + city +\"&units=\"+ unit+\"&APPID=\" + api_key \n",
    "    response = requests.get(url).json()\n",
    "    temps.append(response['main']['temp'])\n",
    "    humid.append(response['main']['humidity'])\n",
    "    cloud.append(response['clouds']['all'])\n",
    "    wind.append(response['wind']['speed'])\n",
    "    \n",
    "city_weather = pd.DataFrame(cities)\n",
    "city_weather['Temp'] = temps\n",
    "city_weather['Humidity'] = humid\n",
    "city_weather['Cloudiness'] = cloud\n",
    "city_weather['Wind Speed'] = wind\n",
    "city_weather.head()"
   ]
  },
  {
   "cell_type": "code",
   "execution_count": 10,
   "metadata": {},
   "outputs": [
    {
     "data": {
      "text/plain": [
       "{'coord': {'lon': -104.98, 'lat': 39.74},\n",
       " 'weather': [{'id': 500,\n",
       "   'main': 'Rain',\n",
       "   'description': 'light rain',\n",
       "   'icon': '10d'}],\n",
       " 'base': 'stations',\n",
       " 'main': {'temp': 76.57,\n",
       "  'pressure': 1019,\n",
       "  'humidity': 33,\n",
       "  'temp_min': 73.4,\n",
       "  'temp_max': 78.8},\n",
       " 'visibility': 16093,\n",
       " 'wind': {'speed': 12.75, 'deg': 270, 'gust': 9.8},\n",
       " 'clouds': {'all': 90},\n",
       " 'dt': 1533321360,\n",
       " 'sys': {'type': 1,\n",
       "  'id': 600,\n",
       "  'message': 0.0045,\n",
       "  'country': 'US',\n",
       "  'sunrise': 1533297695,\n",
       "  'sunset': 1533348591},\n",
       " 'id': 5419384,\n",
       " 'name': 'Denver',\n",
       " 'cod': 200}"
      ]
     },
     "execution_count": 10,
     "metadata": {},
     "output_type": "execute_result"
    }
   ],
   "source": [
    "api_key = api_keys.api_key\n",
    "city = 'denver'\n",
    "unit=\"imperial\"\n",
    "# Starting URL for Weather Map API Call\n",
    "url = \"https://api.openweathermap.org/data/2.5/weather?q=\" + city +\"&units=\"+ unit+\"&APPID=\" + api_key \n",
    "response = requests.get(url).json()\n",
    "response"
   ]
  },
  {
   "cell_type": "code",
   "execution_count": null,
   "metadata": {},
   "outputs": [],
   "source": []
  }
 ],
 "metadata": {
  "anaconda-cloud": {},
  "kernelspec": {
   "display_name": "Python 3",
   "language": "python",
   "name": "python3"
  },
  "language_info": {
   "codemirror_mode": {
    "name": "ipython",
    "version": 3
   },
   "file_extension": ".py",
   "mimetype": "text/x-python",
   "name": "python",
   "nbconvert_exporter": "python",
   "pygments_lexer": "ipython3",
   "version": "3.6.6"
  }
 },
 "nbformat": 4,
 "nbformat_minor": 1
}
